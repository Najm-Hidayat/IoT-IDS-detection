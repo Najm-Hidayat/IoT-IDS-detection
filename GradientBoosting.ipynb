{
 "cells": [
  {
   "cell_type": "code",
   "execution_count": 2,
   "id": "3b661dab-0177-4c57-861a-87c3b0932aa5",
   "metadata": {},
   "outputs": [
    {
     "name": "stdout",
     "output_type": "stream",
     "text": [
      "Requirement already satisfied: xgboost in c:\\users\\dell\\anaconda3\\lib\\site-packages (2.0.3)\n",
      "Requirement already satisfied: numpy in c:\\users\\dell\\anaconda3\\lib\\site-packages (from xgboost) (1.26.4)\n",
      "Requirement already satisfied: scipy in c:\\users\\dell\\anaconda3\\lib\\site-packages (from xgboost) (1.11.4)\n",
      "Requirement already satisfied: missingno in c:\\users\\dell\\anaconda3\\lib\\site-packages (0.5.2)\n",
      "Requirement already satisfied: numpy in c:\\users\\dell\\anaconda3\\lib\\site-packages (from missingno) (1.26.4)\n",
      "Requirement already satisfied: matplotlib in c:\\users\\dell\\anaconda3\\lib\\site-packages (from missingno) (3.8.0)\n",
      "Requirement already satisfied: scipy in c:\\users\\dell\\anaconda3\\lib\\site-packages (from missingno) (1.11.4)\n",
      "Requirement already satisfied: seaborn in c:\\users\\dell\\anaconda3\\lib\\site-packages (from missingno) (0.12.2)\n",
      "Requirement already satisfied: contourpy>=1.0.1 in c:\\users\\dell\\anaconda3\\lib\\site-packages (from matplotlib->missingno) (1.2.0)\n",
      "Requirement already satisfied: cycler>=0.10 in c:\\users\\dell\\anaconda3\\lib\\site-packages (from matplotlib->missingno) (0.11.0)\n",
      "Requirement already satisfied: fonttools>=4.22.0 in c:\\users\\dell\\anaconda3\\lib\\site-packages (from matplotlib->missingno) (4.25.0)\n",
      "Requirement already satisfied: kiwisolver>=1.0.1 in c:\\users\\dell\\anaconda3\\lib\\site-packages (from matplotlib->missingno) (1.4.4)\n",
      "Requirement already satisfied: packaging>=20.0 in c:\\users\\dell\\anaconda3\\lib\\site-packages (from matplotlib->missingno) (23.1)\n",
      "Requirement already satisfied: pillow>=6.2.0 in c:\\users\\dell\\anaconda3\\lib\\site-packages (from matplotlib->missingno) (10.2.0)\n",
      "Requirement already satisfied: pyparsing>=2.3.1 in c:\\users\\dell\\anaconda3\\lib\\site-packages (from matplotlib->missingno) (3.0.9)\n",
      "Requirement already satisfied: python-dateutil>=2.7 in c:\\users\\dell\\anaconda3\\lib\\site-packages (from matplotlib->missingno) (2.8.2)\n",
      "Requirement already satisfied: pandas>=0.25 in c:\\users\\dell\\anaconda3\\lib\\site-packages (from seaborn->missingno) (2.1.4)\n",
      "Requirement already satisfied: pytz>=2020.1 in c:\\users\\dell\\anaconda3\\lib\\site-packages (from pandas>=0.25->seaborn->missingno) (2023.3.post1)\n",
      "Requirement already satisfied: tzdata>=2022.1 in c:\\users\\dell\\anaconda3\\lib\\site-packages (from pandas>=0.25->seaborn->missingno) (2023.3)\n",
      "Requirement already satisfied: six>=1.5 in c:\\users\\dell\\anaconda3\\lib\\site-packages (from python-dateutil>=2.7->matplotlib->missingno) (1.16.0)\n",
      "Requirement already satisfied: scikit-learn in c:\\users\\dell\\anaconda3\\lib\\site-packages (1.2.2)\n",
      "Requirement already satisfied: numpy>=1.17.3 in c:\\users\\dell\\anaconda3\\lib\\site-packages (from scikit-learn) (1.26.4)\n",
      "Requirement already satisfied: scipy>=1.3.2 in c:\\users\\dell\\anaconda3\\lib\\site-packages (from scikit-learn) (1.11.4)\n",
      "Requirement already satisfied: joblib>=1.1.1 in c:\\users\\dell\\anaconda3\\lib\\site-packages (from scikit-learn) (1.2.0)\n",
      "Requirement already satisfied: threadpoolctl>=2.0.0 in c:\\users\\dell\\anaconda3\\lib\\site-packages (from scikit-learn) (2.2.0)\n"
     ]
    }
   ],
   "source": [
    "!pip install xgboost\n",
    "!pip install missingno\n",
    "!pip install scikit-learn"
   ]
  },
  {
   "cell_type": "code",
   "execution_count": 3,
   "id": "382861c5-8e83-4898-a5db-e8e03eed4d7a",
   "metadata": {},
   "outputs": [],
   "source": [
    "import numpy as np # linear algebra\n",
    "import pandas as pd # data processing, CSV file I/O (e.g. pd.read_csv)\n",
    "import missingno as msno\n",
    "import matplotlib.pyplot as plt\n",
    "import seaborn as sns\n",
    "from warnings import simplefilter\n",
    "simplefilter(\"ignore\")\n",
    "from sklearn.ensemble import GradientBoostingClassifier"
   ]
  },
  {
   "cell_type": "code",
   "execution_count": 4,
   "id": "49439d76-63c6-430f-890e-d000b1edd046",
   "metadata": {},
   "outputs": [],
   "source": [
    "train=pd.read_csv('C:/Users/DELL/Desktop/RT_IOT2022.csv')"
   ]
  },
  {
   "cell_type": "code",
   "execution_count": 5,
   "id": "e4734d90-7db4-4b72-980c-c65e44a3dae5",
   "metadata": {},
   "outputs": [
    {
     "name": "stdout",
     "output_type": "stream",
     "text": [
      "(123117, 85)\n"
     ]
    }
   ],
   "source": [
    "print(train.shape)"
   ]
  },
  {
   "cell_type": "code",
   "execution_count": 6,
   "id": "05374271-9184-4333-a89c-e59502b3f839",
   "metadata": {},
   "outputs": [
    {
     "data": {
      "text/html": [
       "<div>\n",
       "<style scoped>\n",
       "    .dataframe tbody tr th:only-of-type {\n",
       "        vertical-align: middle;\n",
       "    }\n",
       "\n",
       "    .dataframe tbody tr th {\n",
       "        vertical-align: top;\n",
       "    }\n",
       "\n",
       "    .dataframe thead th {\n",
       "        text-align: right;\n",
       "    }\n",
       "</style>\n",
       "<table border=\"1\" class=\"dataframe\">\n",
       "  <thead>\n",
       "    <tr style=\"text-align: right;\">\n",
       "      <th></th>\n",
       "      <th>Unnamed: 0</th>\n",
       "      <th>id.orig_p</th>\n",
       "      <th>id.resp_p</th>\n",
       "      <th>proto</th>\n",
       "      <th>service</th>\n",
       "      <th>flow_duration</th>\n",
       "      <th>fwd_pkts_tot</th>\n",
       "      <th>bwd_pkts_tot</th>\n",
       "      <th>fwd_data_pkts_tot</th>\n",
       "      <th>bwd_data_pkts_tot</th>\n",
       "      <th>...</th>\n",
       "      <th>active.std</th>\n",
       "      <th>idle.min</th>\n",
       "      <th>idle.max</th>\n",
       "      <th>idle.tot</th>\n",
       "      <th>idle.avg</th>\n",
       "      <th>idle.std</th>\n",
       "      <th>fwd_init_window_size</th>\n",
       "      <th>bwd_init_window_size</th>\n",
       "      <th>fwd_last_window_size</th>\n",
       "      <th>Attack_type</th>\n",
       "    </tr>\n",
       "  </thead>\n",
       "  <tbody>\n",
       "    <tr>\n",
       "      <th>0</th>\n",
       "      <td>0</td>\n",
       "      <td>38667</td>\n",
       "      <td>1883</td>\n",
       "      <td>tcp</td>\n",
       "      <td>mqtt</td>\n",
       "      <td>32.011598</td>\n",
       "      <td>9</td>\n",
       "      <td>5</td>\n",
       "      <td>3</td>\n",
       "      <td>3</td>\n",
       "      <td>...</td>\n",
       "      <td>0.0</td>\n",
       "      <td>2.972918e+07</td>\n",
       "      <td>2.972918e+07</td>\n",
       "      <td>2.972918e+07</td>\n",
       "      <td>2.972918e+07</td>\n",
       "      <td>0.0</td>\n",
       "      <td>64240</td>\n",
       "      <td>26847</td>\n",
       "      <td>502</td>\n",
       "      <td>MQTT_Publish</td>\n",
       "    </tr>\n",
       "    <tr>\n",
       "      <th>1</th>\n",
       "      <td>1</td>\n",
       "      <td>51143</td>\n",
       "      <td>1883</td>\n",
       "      <td>tcp</td>\n",
       "      <td>mqtt</td>\n",
       "      <td>31.883584</td>\n",
       "      <td>9</td>\n",
       "      <td>5</td>\n",
       "      <td>3</td>\n",
       "      <td>3</td>\n",
       "      <td>...</td>\n",
       "      <td>0.0</td>\n",
       "      <td>2.985528e+07</td>\n",
       "      <td>2.985528e+07</td>\n",
       "      <td>2.985528e+07</td>\n",
       "      <td>2.985528e+07</td>\n",
       "      <td>0.0</td>\n",
       "      <td>64240</td>\n",
       "      <td>26847</td>\n",
       "      <td>502</td>\n",
       "      <td>MQTT_Publish</td>\n",
       "    </tr>\n",
       "    <tr>\n",
       "      <th>2</th>\n",
       "      <td>2</td>\n",
       "      <td>44761</td>\n",
       "      <td>1883</td>\n",
       "      <td>tcp</td>\n",
       "      <td>mqtt</td>\n",
       "      <td>32.124053</td>\n",
       "      <td>9</td>\n",
       "      <td>5</td>\n",
       "      <td>3</td>\n",
       "      <td>3</td>\n",
       "      <td>...</td>\n",
       "      <td>0.0</td>\n",
       "      <td>2.984215e+07</td>\n",
       "      <td>2.984215e+07</td>\n",
       "      <td>2.984215e+07</td>\n",
       "      <td>2.984215e+07</td>\n",
       "      <td>0.0</td>\n",
       "      <td>64240</td>\n",
       "      <td>26847</td>\n",
       "      <td>502</td>\n",
       "      <td>MQTT_Publish</td>\n",
       "    </tr>\n",
       "    <tr>\n",
       "      <th>3</th>\n",
       "      <td>3</td>\n",
       "      <td>60893</td>\n",
       "      <td>1883</td>\n",
       "      <td>tcp</td>\n",
       "      <td>mqtt</td>\n",
       "      <td>31.961063</td>\n",
       "      <td>9</td>\n",
       "      <td>5</td>\n",
       "      <td>3</td>\n",
       "      <td>3</td>\n",
       "      <td>...</td>\n",
       "      <td>0.0</td>\n",
       "      <td>2.991377e+07</td>\n",
       "      <td>2.991377e+07</td>\n",
       "      <td>2.991377e+07</td>\n",
       "      <td>2.991377e+07</td>\n",
       "      <td>0.0</td>\n",
       "      <td>64240</td>\n",
       "      <td>26847</td>\n",
       "      <td>502</td>\n",
       "      <td>MQTT_Publish</td>\n",
       "    </tr>\n",
       "    <tr>\n",
       "      <th>4</th>\n",
       "      <td>4</td>\n",
       "      <td>51087</td>\n",
       "      <td>1883</td>\n",
       "      <td>tcp</td>\n",
       "      <td>mqtt</td>\n",
       "      <td>31.902362</td>\n",
       "      <td>9</td>\n",
       "      <td>5</td>\n",
       "      <td>3</td>\n",
       "      <td>3</td>\n",
       "      <td>...</td>\n",
       "      <td>0.0</td>\n",
       "      <td>2.981470e+07</td>\n",
       "      <td>2.981470e+07</td>\n",
       "      <td>2.981470e+07</td>\n",
       "      <td>2.981470e+07</td>\n",
       "      <td>0.0</td>\n",
       "      <td>64240</td>\n",
       "      <td>26847</td>\n",
       "      <td>502</td>\n",
       "      <td>MQTT_Publish</td>\n",
       "    </tr>\n",
       "  </tbody>\n",
       "</table>\n",
       "<p>5 rows × 85 columns</p>\n",
       "</div>"
      ],
      "text/plain": [
       "   Unnamed: 0  id.orig_p  id.resp_p proto service  flow_duration  \\\n",
       "0           0      38667       1883   tcp    mqtt      32.011598   \n",
       "1           1      51143       1883   tcp    mqtt      31.883584   \n",
       "2           2      44761       1883   tcp    mqtt      32.124053   \n",
       "3           3      60893       1883   tcp    mqtt      31.961063   \n",
       "4           4      51087       1883   tcp    mqtt      31.902362   \n",
       "\n",
       "   fwd_pkts_tot  bwd_pkts_tot  fwd_data_pkts_tot  bwd_data_pkts_tot  ...  \\\n",
       "0             9             5                  3                  3  ...   \n",
       "1             9             5                  3                  3  ...   \n",
       "2             9             5                  3                  3  ...   \n",
       "3             9             5                  3                  3  ...   \n",
       "4             9             5                  3                  3  ...   \n",
       "\n",
       "   active.std      idle.min      idle.max      idle.tot      idle.avg  \\\n",
       "0         0.0  2.972918e+07  2.972918e+07  2.972918e+07  2.972918e+07   \n",
       "1         0.0  2.985528e+07  2.985528e+07  2.985528e+07  2.985528e+07   \n",
       "2         0.0  2.984215e+07  2.984215e+07  2.984215e+07  2.984215e+07   \n",
       "3         0.0  2.991377e+07  2.991377e+07  2.991377e+07  2.991377e+07   \n",
       "4         0.0  2.981470e+07  2.981470e+07  2.981470e+07  2.981470e+07   \n",
       "\n",
       "   idle.std  fwd_init_window_size  bwd_init_window_size  fwd_last_window_size  \\\n",
       "0       0.0                 64240                 26847                   502   \n",
       "1       0.0                 64240                 26847                   502   \n",
       "2       0.0                 64240                 26847                   502   \n",
       "3       0.0                 64240                 26847                   502   \n",
       "4       0.0                 64240                 26847                   502   \n",
       "\n",
       "    Attack_type  \n",
       "0  MQTT_Publish  \n",
       "1  MQTT_Publish  \n",
       "2  MQTT_Publish  \n",
       "3  MQTT_Publish  \n",
       "4  MQTT_Publish  \n",
       "\n",
       "[5 rows x 85 columns]"
      ]
     },
     "execution_count": 6,
     "metadata": {},
     "output_type": "execute_result"
    }
   ],
   "source": [
    "train.head()"
   ]
  },
  {
   "cell_type": "code",
   "execution_count": 7,
   "id": "d78b328a-7f16-4935-ac9e-0c6f5e765725",
   "metadata": {},
   "outputs": [
    {
     "name": "stdout",
     "output_type": "stream",
     "text": [
      "['MQTT_Publish' 'Thing_Speak' 'Wipro_bulb' 'ARP_poisioning'\n",
      " 'DDOS_Slowloris' 'DOS_SYN_Hping' 'Metasploit_Brute_Force_SSH'\n",
      " 'NMAP_FIN_SCAN' 'NMAP_OS_DETECTION' 'NMAP_TCP_scan' 'NMAP_UDP_SCAN'\n",
      " 'NMAP_XMAS_TREE_SCAN']\n"
     ]
    }
   ],
   "source": [
    "target='Attack_type'\n",
    "print(train['Attack_type'].unique())"
   ]
  },
  {
   "cell_type": "code",
   "execution_count": 8,
   "id": "5dc711c9-ca80-4241-a1e8-52995a297d48",
   "metadata": {},
   "outputs": [
    {
     "data": {
      "text/plain": [
       "0"
      ]
     },
     "execution_count": 8,
     "metadata": {},
     "output_type": "execute_result"
    }
   ],
   "source": [
    "train.duplicated().sum()"
   ]
  },
  {
   "cell_type": "code",
   "execution_count": 9,
   "id": "f59ed7f0-45bc-46df-99d8-d61009fb05d8",
   "metadata": {},
   "outputs": [
    {
     "name": "stdout",
     "output_type": "stream",
     "text": [
      "proto\n",
      "proto\n",
      "tcp     110427\n",
      "udp      12633\n",
      "icmp        57\n",
      "Name: count, dtype: int64\n",
      "----------------------------\n",
      "service\n",
      "service\n",
      "-         102861\n",
      "dns         9753\n",
      "mqtt        4132\n",
      "http        3464\n",
      "ssl         2663\n",
      "ntp          121\n",
      "dhcp          50\n",
      "irc           43\n",
      "ssh           28\n",
      "radius         2\n",
      "Name: count, dtype: int64\n",
      "----------------------------\n",
      "Attack_type\n",
      "Attack_type\n",
      "DOS_SYN_Hping                 94659\n",
      "Thing_Speak                    8108\n",
      "ARP_poisioning                 7750\n",
      "MQTT_Publish                   4146\n",
      "NMAP_UDP_SCAN                  2590\n",
      "NMAP_XMAS_TREE_SCAN            2010\n",
      "NMAP_OS_DETECTION              2000\n",
      "NMAP_TCP_scan                  1002\n",
      "DDOS_Slowloris                  534\n",
      "Wipro_bulb                      253\n",
      "Metasploit_Brute_Force_SSH       37\n",
      "NMAP_FIN_SCAN                    28\n",
      "Name: count, dtype: int64\n",
      "----------------------------\n"
     ]
    }
   ],
   "source": [
    "categorical_columns = train.select_dtypes(include=['object']).columns\n",
    "\n",
    "for column in categorical_columns:\n",
    "    print(column)\n",
    "    print(train[column].value_counts())\n",
    "    print(\"----------------------------\")"
   ]
  },
  {
   "cell_type": "code",
   "execution_count": 10,
   "id": "74bbbe7d-d95f-449c-bc62-347cd192e46b",
   "metadata": {},
   "outputs": [],
   "source": [
    "from sklearn.preprocessing import LabelEncoder\n",
    "from sklearn.svm import SVC\n",
    "from sklearn.metrics import accuracy_score, classification_report\n",
    "from sklearn.model_selection import train_test_split\n",
    "from sklearn.metrics import confusion_matrix\n",
    "# Initialize LabelEncoder\n",
    "label_encoder = LabelEncoder()\n",
    "# Delete the target label column and the id classification column for the train data\n",
    "X = train.drop(columns=['Attack_type'])\n",
    "X.drop(columns=['Unnamed: 0', 'id.orig_p', 'id.resp_p'], inplace=True)\n",
    "# encode input for non-numeric columns\n",
    "X['proto'] = label_encoder.fit_transform(X['proto'])\n",
    "X['service'] = label_encoder.fit_transform(X['service'])\n",
    "y = label_encoder.fit_transform(train[target])\n",
    "# Divide the data into training set and test set              \n",
    "X_train, X_test, y_train, y_test = train_test_split(X, y, test_size=0.2, random_state=42)"
   ]
  },
  {
   "cell_type": "code",
   "execution_count": 11,
   "id": "c300ec59-bd7d-4f49-8752-49714762b62a",
   "metadata": {},
   "outputs": [],
   "source": [
    "gbm = GradientBoostingClassifier(n_estimators=100, max_depth=3, learning_rate=0.1, random_state=42)\n"
   ]
  },
  {
   "cell_type": "code",
   "execution_count": 12,
   "id": "02776ccd-a1eb-4e03-8eaf-4eb697ba25de",
   "metadata": {},
   "outputs": [],
   "source": [
    "# Train the model\n",
    "gbm.fit(X_train, y_train)\n",
    "\n",
    "# Make predictions\n",
    "y_pred = gbm.predict(X_test)"
   ]
  },
  {
   "cell_type": "code",
   "execution_count": 14,
   "id": "c9315892-7253-4e1d-bb8d-533ec94f1418",
   "metadata": {},
   "outputs": [
    {
     "name": "stdout",
     "output_type": "stream",
     "text": [
      "              precision    recall  f1-score   support\n",
      "\n",
      "           0       0.97      0.99      0.98      1578\n",
      "           1       0.88      0.87      0.87       100\n",
      "           2       1.00      1.00      1.00     18897\n",
      "           3       1.00      1.00      1.00       871\n",
      "           4       0.83      0.83      0.83         6\n",
      "           5       0.67      0.67      0.67         3\n",
      "           6       1.00      1.00      1.00       393\n",
      "           7       1.00      1.00      1.00       220\n",
      "           8       0.97      0.97      0.97       489\n",
      "           9       1.00      0.99      1.00       384\n",
      "          10       0.99      0.98      0.98      1625\n",
      "          11       1.00      0.95      0.97        58\n",
      "\n",
      "    accuracy                           1.00     24624\n",
      "   macro avg       0.94      0.94      0.94     24624\n",
      "weighted avg       1.00      1.00      1.00     24624\n",
      "\n",
      "--------------------------------------------------\n",
      "[[ 1555     4     0     0     0     0     0     0     2     0    17     0]\n",
      " [    0    87     0     2     0     0     0     0    11     0     0     0]\n",
      " [    0     0 18897     0     0     0     0     0     0     0     0     0]\n",
      " [    1     0     0   870     0     0     0     0     0     0     0     0]\n",
      " [    1     0     0     0     5     0     0     0     0     0     0     0]\n",
      " [    1     0     0     0     0     2     0     0     0     0     0     0]\n",
      " [    0     0     0     0     0     0   393     0     0     0     0     0]\n",
      " [    0     0     0     0     0     0     0   220     0     0     0     0]\n",
      " [    7     8     0     0     1     0     0     0   472     0     1     0]\n",
      " [    2     0     0     0     0     0     0     0     0   381     1     0]\n",
      " [   35     0     0     1     0     1     0     0     0     0  1588     0]\n",
      " [    0     0     0     1     0     0     0     0     0     0     2    55]]\n"
     ]
    },
    {
     "data": {
      "image/png": "[encoded data removed]",
      "text/plain": [
       "<Figure size 800x600 with 1 Axes>"
      ]
     },
     "metadata": {},
     "output_type": "display_data"
    }
   ],
   "source": [
    "# Evaluate model performance\n",
    "classification_rep = classification_report(y_test, y_pred)\n",
    "#print(\"Classification Report for\", name)\n",
    "print(classification_rep)\n",
    "print(\"--------------------------------------------------\")\n",
    "cm = confusion_matrix(y_test, y_pred)\n",
    "print(confusion_matrix(y_test, y_pred))\n",
    "plt.figure(figsize=(8, 6))\n",
    "ax = sns.heatmap(cm, annot=True, fmt='d', cmap='Blues', cbar=False)\n",
    "for text in ax.texts:\n",
    "    text.set_color(\"red\")  # Set all text colors to red for visibility\n",
    "plt.xlabel('Predicted')\n",
    "plt.ylabel('Actual')\n",
    "plt.title('Confusion Matrix')\n",
    "plt.show()"
   ]
  },
  {
   "cell_type": "code",
   "execution_count": null,
   "id": "7907a55e-5305-4cad-be9b-3eafb1aa82fa",
   "metadata": {},
   "outputs": [],
   "source": []
  },
  {
   "cell_type": "code",
   "execution_count": null,
   "id": "2621bacf-ca52-463a-aff9-9f3b11470e39",
   "metadata": {},
   "outputs": [],
   "source": []
  }
 ],
 "metadata": {
  "kernelspec": {
   "display_name": "Python 3 (ipykernel)",
   "language": "python",
   "name": "python3"
  },
  "language_info": {
   "codemirror_mode": {
    "name": "ipython",
    "version": 3
   },
   "file_extension": ".py",
   "mimetype": "text/x-python",
   "name": "python",
   "nbconvert_exporter": "python",
   "pygments_lexer": "ipython3",
   "version": "3.11.7"
  }
 },
 "nbformat": 4,
 "nbformat_minor": 5
}
